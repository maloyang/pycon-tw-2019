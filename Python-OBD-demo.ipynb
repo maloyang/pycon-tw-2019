{
 "cells": [
  {
   "cell_type": "markdown",
   "metadata": {},
   "source": [
    "# pycon2019 - py車達人"
   ]
  },
  {
   "cell_type": "markdown",
   "metadata": {},
   "source": [
    "## 連線測試 - 爸的New Sentra"
   ]
  },
  {
   "cell_type": "code",
   "execution_count": 91,
   "metadata": {},
   "outputs": [],
   "source": [
    "import obd"
   ]
  },
  {
   "cell_type": "code",
   "execution_count": 95,
   "metadata": {},
   "outputs": [],
   "source": [
    "# 如果連不上，要先關閉再開\n",
    "c.close()"
   ]
  },
  {
   "cell_type": "code",
   "execution_count": 93,
   "metadata": {},
   "outputs": [],
   "source": [
    "#之前一直連不上，但設定debug level後就正常了，不知道是不是速度上的問題\n",
    "obd.logger.setLevel(obd.logging.DEBUG)"
   ]
  },
  {
   "cell_type": "code",
   "execution_count": 94,
   "metadata": {},
   "outputs": [
    {
     "name": "stderr",
     "output_type": "stream",
     "text": [
      "[obd.obd] ======================= python-OBD (v0.7.1) =======================\n",
      "[obd.obd] Explicit port defined\n",
      "[obd.elm327] Initializing ELM327: PORT=COM6 BAUD=auto PROTOCOL=auto\n",
      "[obd.elm327] could not open port 'COM6': OSError(22, '信號等待逾時。', None, 121)\n",
      "[obd.obd] Closing connection\n",
      "[obd.obd] Cannot load commands: No connection to car\n",
      "[obd.obd] ===================================================================\n"
     ]
    }
   ],
   "source": [
    "c = obd.OBD('COM6')"
   ]
  },
  {
   "cell_type": "code",
   "execution_count": 24,
   "metadata": {},
   "outputs": [
    {
     "name": "stderr",
     "output_type": "stream",
     "text": [
      "[obd.obd] ======================= python-OBD (v0.7.1) =======================\n",
      "[obd.obd] Explicit port defined\n",
      "[obd.elm327] Initializing ELM327: PORT=COM6 BAUD=auto PROTOCOL=auto\n",
      "[obd.elm327] Response from baud 38400: b'\\x7f\\x7f\\r?\\r\\r>'\n",
      "[obd.elm327] Choosing baud 38400\n",
      "[obd.elm327] write: b'ATZ\\r'\n",
      "[obd.elm327] wait: 1 seconds\n",
      "[obd.elm327] read: b'ATZ\\r\\r\\rELM327 v2.1\\r\\r>'\n",
      "[obd.elm327] write: b'ATE0\\r'\n",
      "[obd.elm327] read: b'ATE0\\rOK\\r\\r>'\n",
      "[obd.elm327] write: b'ATH1\\r'\n",
      "[obd.elm327] read: b'OK\\r\\r>'\n",
      "[obd.elm327] write: b'ATL0\\r'\n",
      "[obd.elm327] read: b'OK\\r\\r>'\n",
      "[obd.elm327] write: b'AT RV\\r'\n",
      "[obd.elm327] read: b'13.1V\\r\\r>'\n",
      "[obd.elm327] write: b'ATSP0\\r'\n",
      "[obd.elm327] read: b'OK'\n",
      "[obd.elm327] write: b'0100\\r'\n",
      "[obd.elm327] read: b'\\r\\r>'\n",
      "[obd.elm327] write: b'ATDPN\\r'\n",
      "[obd.elm327] Failed to read port\n",
      "[obd.elm327] read: b''\n",
      "[obd.elm327] Failed to retrieve current protocol\n",
      "[obd.elm327] Adapter connected, but the ignition is off\n",
      "[obd.obd] Cannot load commands: No connection to car\n",
      "[obd.obd] ===================================================================\n"
     ]
    }
   ],
   "source": [
    "c = obd.OBD('COM6')"
   ]
  },
  {
   "cell_type": "code",
   "execution_count": 6,
   "metadata": {},
   "outputs": [
    {
     "name": "stderr",
     "output_type": "stream",
     "text": [
      "[obd.obd] ======================= python-OBD (v0.7.1) =======================\n",
      "[obd.obd] Explicit port defined\n",
      "[obd.elm327] Initializing ELM327: PORT=COM10 BAUD=auto PROTOCOL=auto\n",
      "[obd.elm327] Response from baud 38400: b'\\x7f\\x7f\\r?\\r\\r>'\n",
      "[obd.elm327] Choosing baud 38400\n",
      "[obd.elm327] write: b'ATZ\\r'\n",
      "[obd.elm327] wait: 1 seconds\n",
      "[obd.elm327] read: b'ATZ\\r\\xfc\\r\\rELM327 v1.5\\r\\r>'\n",
      "[obd.elm327] write: b'ATE0\\r'\n",
      "[obd.elm327] read: b'ATE0\\rOK\\r'\n",
      "[obd.elm327] write: b'ATH1\\r'\n",
      "[obd.elm327] read: b'OK\\r\\r'\n",
      "[obd.elm327] write: b'ATL0\\r'\n",
      "[obd.elm327] read: b'OK\\r\\r'\n",
      "[obd.elm327] write: b'AT RV\\r'\n",
      "[obd.elm327] read: b'13.2V\\r\\r>'\n",
      "[obd.elm327] write: b'ATSP0\\r'\n",
      "[obd.elm327] read: b'OK'\n",
      "[obd.elm327] write: b'0100\\r'\n",
      "[obd.elm327] read: b'\\r\\r>'\n",
      "[obd.elm327] write: b'ATDPN\\r'\n",
      "[obd.elm327] read: b'A0\\r\\r>'\n",
      "[obd.elm327] ELM responded with unknown protocol. Trying them one-by-one\n",
      "[obd.elm327] write: b'ATTP6\\r'\n",
      "[obd.elm327] read: b'OK\\r'\n",
      "[obd.elm327] write: b'0100\\r'\n",
      "[obd.elm327] read: b'7E8 06 41 00 BE 1F A8 13 \\r\\r>'\n",
      "[obd.protocols.protocol] map ECU 0 --> ENGINE\n",
      "[obd.elm327] Connected Successfully: PORT=COM10 BAUD=38400 PROTOCOL=6\n",
      "[obd.obd] querying for supported commands\n",
      "[obd.obd] Sending command: b'0100': Supported PIDs [01-20]\n",
      "[obd.elm327] write: b'0100\\r'\n",
      "[obd.elm327] read: b'7E8 06 41 00 BE 1F A8 13 \\r\\r>'\n",
      "[obd.obd] Sending command: b'0120': Supported PIDs [21-40]\n",
      "[obd.elm327] write: b'0120\\r'\n",
      "[obd.elm327] read: b'7E8 06 41 20 90 05 80 11 \\r\\r>'\n",
      "[obd.obd] Sending command: b'0140': Supported PIDs [41-60]\n",
      "[obd.elm327] write: b'0140\\r'\n",
      "[obd.elm327] read: b'7E8 06 41 40 FA DC 80 00 \\r\\r>'\n",
      "[obd.obd] Sending command: b'0600': Supported MIDs [01-20]\n",
      "[obd.elm327] write: b'0600\\r'\n",
      "[obd.elm327] read: b'7E8 06 46 00 C0 00 00 01 \\r\\r>'\n",
      "[obd.obd] Sending command: b'0620': Supported MIDs [21-40]\n",
      "[obd.elm327] write: b'0620\\r'\n",
      "[obd.elm327] read: b'7E8 06 46 20 80 00 00 01 \\r\\r>'\n",
      "[obd.obd] Sending command: b'0640': Supported MIDs [41-60]\n",
      "[obd.elm327] write: b'0640\\r'\n",
      "[obd.elm327] read: b'7E8 06 46 40 C0 00 00 01 \\r\\r>'\n",
      "[obd.obd] Sending command: b'0660': Supported MIDs [61-80]\n",
      "[obd.elm327] write: b'0660\\r'\n",
      "[obd.elm327] read: b'7E8 06 46 60 00 00 00 01 \\r\\r>'\n",
      "[obd.obd] Sending command: b'0680': Supported MIDs [81-A0]\n",
      "[obd.elm327] write: b'0680\\r'\n",
      "[obd.elm327] read: b'7E8 06 46 80 80 00 00 01 \\r\\r>'\n",
      "[obd.obd] Sending command: b'06A0': Supported MIDs [A1-C0]\n",
      "[obd.elm327] write: b'06A0\\r'\n",
      "[obd.elm327] read: b'7E8 06 46 A0 F8 00 00 00 \\r\\r>'\n",
      "[obd.obd] finished querying with 95 commands supported\n",
      "[obd.obd] ===================================================================\n"
     ]
    }
   ],
   "source": [
    "c = obd.OBD('COM10')"
   ]
  },
  {
   "cell_type": "code",
   "execution_count": 62,
   "metadata": {},
   "outputs": [],
   "source": [
    "# 可以參考這一個table\n",
    "# https://python-obd.readthedocs.io/en/latest/Command%20Tables/"
   ]
  },
  {
   "cell_type": "code",
   "execution_count": 67,
   "metadata": {},
   "outputs": [
    {
     "name": "stderr",
     "output_type": "stream",
     "text": [
      "[obd.obd] Sending command: b'010D': Vehicle Speed\n",
      "[obd.elm327] write: b'\\r'\n",
      "[obd.elm327] read: b'7E8 03 41 0D 20 \\r\\r>'\n"
     ]
    },
    {
     "name": "stdout",
     "output_type": "stream",
     "text": [
      "b'010D': Vehicle Speed 32.0 kph VALUE: 32.0 kph unit: kph\n"
     ]
    },
    {
     "name": "stderr",
     "output_type": "stream",
     "text": [
      "[obd.obd] Sending command: b'0105': Engine Coolant Temperature\n",
      "[obd.elm327] write: b'01051\\r'\n",
      "[obd.elm327] read: b'7E8 03 41 05 80 \\r\\r>'\n"
     ]
    },
    {
     "name": "stdout",
     "output_type": "stream",
     "text": [
      "b'0105': Engine Coolant Temperature 88 degC VALUE: 88 degC unit: degC\n"
     ]
    },
    {
     "name": "stderr",
     "output_type": "stream",
     "text": [
      "[obd.obd] Sending command: b'010C': Engine RPM\n",
      "[obd.elm327] write: b'010C1\\r'\n",
      "[obd.elm327] read: b'7E8 04 41 0C 12 C0 \\r\\r>'\n"
     ]
    },
    {
     "name": "stdout",
     "output_type": "stream",
     "text": [
      "b'010C': Engine RPM 1200.0 revolutions_per_minute VALUE: 1200.0 revolutions_per_minute unit: revolutions_per_minute\n"
     ]
    },
    {
     "name": "stderr",
     "output_type": "stream",
     "text": [
      "[obd.obd] Sending command: b'ATRV': Voltage detected by OBD-II adapter\n",
      "[obd.elm327] write: b'ATRV\\r'\n",
      "[obd.elm327] read: b'13.0V\\r\\r>'\n"
     ]
    },
    {
     "name": "stdout",
     "output_type": "stream",
     "text": [
      "b'ATRV': Voltage detected by OBD-II adapter 13.0 volt VALUE: 13.0 volt unit: volt\n"
     ]
    },
    {
     "name": "stderr",
     "output_type": "stream",
     "text": [
      "[obd.obd] Sending command: b'0142': Control module voltage\n",
      "[obd.elm327] write: b'01421\\r'\n",
      "[obd.elm327] read: b'7E8 04 41 42 32 F0 \\r\\r>'\n"
     ]
    },
    {
     "name": "stdout",
     "output_type": "stream",
     "text": [
      "b'0142': Control module voltage 13.040000000000001 volt VALUE: 13.040000000000001 volt unit: volt\n"
     ]
    }
   ],
   "source": [
    "import time\n",
    "\n",
    "cmds = [obd.commands.SPEED, obd.commands.COOLANT_TEMP, obd.commands.RPM, obd.commands.ELM_VOLTAGE, obd.commands.CONTROL_MODULE_VOLTAGE]\n",
    "\n",
    "for cmd in cmds:\n",
    "    r = c.query(cmd)\n",
    "    print(r.command, r, 'VALUE:', r.value, 'unit:', r.unit)\n",
    "    time.sleep(1)\n"
   ]
  },
  {
   "cell_type": "markdown",
   "metadata": {},
   "source": [
    "## 資料上雲端"
   ]
  },
  {
   "cell_type": "markdown",
   "metadata": {},
   "source": [
    "- 看資料: http://dweet.io/follow/malo_car_003"
   ]
  },
  {
   "cell_type": "markdown",
   "metadata": {},
   "source": [
    "### 開始收集資料上傳"
   ]
  },
  {
   "cell_type": "code",
   "execution_count": 89,
   "metadata": {},
   "outputs": [
    {
     "name": "stderr",
     "output_type": "stream",
     "text": [
      "[obd.obd] Sending command: b'010D': Vehicle Speed\n",
      "[obd.elm327] write: b'010D\\r'\n",
      "[obd.elm327] read: b'7E8 03 41 0D 00 \\r\\r>'\n",
      "[obd.obd] Sending command: b'010C': Engine RPM\n",
      "[obd.elm327] write: b'010C\\r'\n",
      "[obd.elm327] read: b'7E8 04 41 0C 0B 86 \\r\\r>'\n",
      "[obd.obd] Sending command: b'0105': Engine Coolant Temperature\n",
      "[obd.elm327] write: b'0105\\r'\n",
      "[obd.elm327] read: b'7E8 03 41 05 81 \\r\\r>'\n",
      "[obd.obd] Sending command: b'0142': Control module voltage\n",
      "[obd.elm327] write: b'0142\\r'\n",
      "[obd.elm327] read: b'7E8 04 41 42 33 40 \\r\\r>'\n"
     ]
    },
    {
     "name": "stdout",
     "output_type": "stream",
     "text": [
      "send:  {'SPEED': '0.0', 'RPM': '737.5', 'COOLANT_TEMP': '89', 'VOLTAGE': '13.120000000000001'} result:  succeeded\n"
     ]
    },
    {
     "name": "stderr",
     "output_type": "stream",
     "text": [
      "[obd.obd] Sending command: b'010D': Vehicle Speed\n",
      "[obd.elm327] write: b'010D1\\r'\n",
      "[obd.elm327] read: b'7E8 03 41 0D 00 \\r\\r>'\n",
      "[obd.obd] Sending command: b'010C': Engine RPM\n",
      "[obd.elm327] write: b'010C1\\r'\n",
      "[obd.elm327] read: b'7E8 04 41 0C 0A F0 \\r\\r>'\n",
      "[obd.obd] Sending command: b'0105': Engine Coolant Temperature\n",
      "[obd.elm327] write: b'01051\\r'\n",
      "[obd.elm327] read: b'7E8 03 41 05 81 \\r\\r>'\n",
      "[obd.obd] Sending command: b'0142': Control module voltage\n",
      "[obd.elm327] write: b'01421\\r'\n",
      "[obd.elm327] read: b'7E8 04 41 42 32 F0 \\r\\r>'\n"
     ]
    },
    {
     "name": "stdout",
     "output_type": "stream",
     "text": [
      "send:  {'SPEED': '0.0', 'RPM': '700.0', 'COOLANT_TEMP': '89', 'VOLTAGE': '13.040000000000001'} result:  succeeded\n"
     ]
    },
    {
     "name": "stderr",
     "output_type": "stream",
     "text": [
      "[obd.obd] Sending command: b'010D': Vehicle Speed\n",
      "[obd.elm327] write: b'010D1\\r'\n",
      "[obd.elm327] read: b'7E8 03 41 0D 1E \\r\\r>'\n",
      "[obd.obd] Sending command: b'010C': Engine RPM\n",
      "[obd.elm327] write: b'010C1\\r'\n",
      "[obd.elm327] read: b'7E8 04 41 0C 11 F8 \\r\\r>'\n",
      "[obd.obd] Sending command: b'0105': Engine Coolant Temperature\n",
      "[obd.elm327] write: b'01051\\r'\n",
      "[obd.elm327] read: b'7E8 03 41 05 80 \\r\\r>'\n",
      "[obd.obd] Sending command: b'0142': Control module voltage\n",
      "[obd.elm327] write: b'01421\\r'\n",
      "[obd.elm327] read: b'7E8 04 41 42 32 F0 \\r\\r>'\n"
     ]
    },
    {
     "name": "stdout",
     "output_type": "stream",
     "text": [
      "send:  {'SPEED': '30.0', 'RPM': '1150.0', 'COOLANT_TEMP': '88', 'VOLTAGE': '13.040000000000001'} result:  succeeded\n"
     ]
    },
    {
     "name": "stderr",
     "output_type": "stream",
     "text": [
      "[obd.obd] Sending command: b'010D': Vehicle Speed\n",
      "[obd.elm327] write: b'010D1\\r'\n",
      "[obd.elm327] read: b'7E8 03 41 0D 2A \\r\\r>'\n",
      "[obd.obd] Sending command: b'010C': Engine RPM\n",
      "[obd.elm327] write: b'010C1\\r'\n",
      "[obd.elm327] read: b'7E8 04 41 0C 12 2A \\r\\r>'\n",
      "[obd.obd] Sending command: b'0105': Engine Coolant Temperature\n",
      "[obd.elm327] write: b'01051\\r'\n",
      "[obd.elm327] read: b'7E8 03 41 05 80 \\r\\r>'\n",
      "[obd.obd] Sending command: b'0142': Control module voltage\n",
      "[obd.elm327] write: b'01421\\r'\n",
      "[obd.elm327] read: b'7E8 04 41 42 33 90 \\r\\r>'\n"
     ]
    },
    {
     "name": "stdout",
     "output_type": "stream",
     "text": [
      "send:  {'SPEED': '42.0', 'RPM': '1162.5', 'COOLANT_TEMP': '88', 'VOLTAGE': '13.200000000000001'} result:  succeeded\n"
     ]
    },
    {
     "name": "stderr",
     "output_type": "stream",
     "text": [
      "[obd.obd] Sending command: b'010D': Vehicle Speed\n",
      "[obd.elm327] write: b'010D1\\r'\n",
      "[obd.elm327] read: b'7E8 03 41 0D 16 \\r\\r>'\n",
      "[obd.obd] Sending command: b'010C': Engine RPM\n",
      "[obd.elm327] write: b'010C1\\r'\n",
      "[obd.elm327] read: b'7E8 04 41 0C 11 F8 \\r\\r>'\n",
      "[obd.obd] Sending command: b'0105': Engine Coolant Temperature\n",
      "[obd.elm327] write: b'01051\\r'\n",
      "[obd.elm327] read: b'7E8 03 41 05 7F \\r\\r>'\n",
      "[obd.obd] Sending command: b'0142': Control module voltage\n",
      "[obd.elm327] write: b'01421\\r'\n",
      "[obd.elm327] read: b'7E8 04 41 42 32 F0 \\r\\r>'\n"
     ]
    },
    {
     "name": "stdout",
     "output_type": "stream",
     "text": [
      "send:  {'SPEED': '22.0', 'RPM': '1150.0', 'COOLANT_TEMP': '87', 'VOLTAGE': '13.040000000000001'} result:  succeeded\n"
     ]
    },
    {
     "name": "stderr",
     "output_type": "stream",
     "text": [
      "[obd.obd] Sending command: b'010D': Vehicle Speed\n",
      "[obd.elm327] write: b'010D1\\r'\n",
      "[obd.elm327] read: b'7E8 03 41 0D 02 \\r\\r>'\n",
      "[obd.obd] Sending command: b'010C': Engine RPM\n",
      "[obd.elm327] write: b'010C1\\r'\n",
      "[obd.elm327] read: b'7E8 04 41 0C 0C 4E \\r\\r>'\n",
      "[obd.obd] Sending command: b'0105': Engine Coolant Temperature\n",
      "[obd.elm327] write: b'01051\\r'\n",
      "[obd.elm327] read: b'7E8 03 41 05 7F \\r\\r>'\n",
      "[obd.obd] Sending command: b'0142': Control module voltage\n",
      "[obd.elm327] write: b'01421\\r'\n",
      "[obd.elm327] read: b'7E8 04 41 42 32 00 \\r\\r>'\n"
     ]
    },
    {
     "name": "stdout",
     "output_type": "stream",
     "text": [
      "send:  {'SPEED': '2.0', 'RPM': '787.5', 'COOLANT_TEMP': '87', 'VOLTAGE': '12.8'} result:  succeeded\n"
     ]
    },
    {
     "name": "stderr",
     "output_type": "stream",
     "text": [
      "[obd.obd] Sending command: b'010D': Vehicle Speed\n",
      "[obd.elm327] write: b'010D1\\r'\n",
      "[obd.elm327] read: b'7E8 03 41 0D 00 \\r\\r>'\n",
      "[obd.obd] Sending command: b'010C': Engine RPM\n",
      "[obd.elm327] write: b'010C1\\r'\n",
      "[obd.elm327] read: b'7E8 04 41 0C 0B 86 \\r\\r>'\n",
      "[obd.obd] Sending command: b'0105': Engine Coolant Temperature\n",
      "[obd.elm327] write: b'01051\\r'\n",
      "[obd.elm327] read: b'7E8 03 41 05 7F \\r\\r>'\n",
      "[obd.obd] Sending command: b'0142': Control module voltage\n",
      "[obd.elm327] write: b'01421\\r'\n",
      "[obd.elm327] read: b'7E8 04 41 42 32 F0 \\r\\r>'\n"
     ]
    },
    {
     "name": "stdout",
     "output_type": "stream",
     "text": [
      "send:  {'SPEED': '0.0', 'RPM': '737.5', 'COOLANT_TEMP': '87', 'VOLTAGE': '13.040000000000001'} result:  succeeded\n"
     ]
    },
    {
     "name": "stderr",
     "output_type": "stream",
     "text": [
      "[obd.obd] Sending command: b'010D': Vehicle Speed\n",
      "[obd.elm327] write: b'010D1\\r'\n",
      "[obd.elm327] read: b'7E8 03 41 0D 02 \\r\\r>'\n",
      "[obd.obd] Sending command: b'010C': Engine RPM\n",
      "[obd.elm327] write: b'010C1\\r'\n",
      "[obd.elm327] read: b'7E8 04 41 0C 0B EA \\r\\r>'\n",
      "[obd.obd] Sending command: b'0105': Engine Coolant Temperature\n",
      "[obd.elm327] write: b'01051\\r'\n",
      "[obd.elm327] read: b'7E8 03 41 05 80 \\r\\r>'\n",
      "[obd.obd] Sending command: b'0142': Control module voltage\n",
      "[obd.elm327] write: b'01421\\r'\n",
      "[obd.elm327] read: b'7E8 04 41 42 33 90 \\r\\r>'\n"
     ]
    },
    {
     "name": "stdout",
     "output_type": "stream",
     "text": [
      "send:  {'SPEED': '2.0', 'RPM': '762.5', 'COOLANT_TEMP': '88', 'VOLTAGE': '13.200000000000001'} result:  succeeded\n"
     ]
    },
    {
     "name": "stderr",
     "output_type": "stream",
     "text": [
      "[obd.obd] Sending command: b'010D': Vehicle Speed\n",
      "[obd.elm327] write: b'010D1\\r'\n",
      "[obd.elm327] read: b'7E8 03 41 0D 00 \\r\\r>'\n",
      "[obd.obd] Sending command: b'010C': Engine RPM\n",
      "[obd.elm327] write: b'010C1\\r'\n",
      "[obd.elm327] read: b'7E8 04 41 0C 0B B8 \\r\\r>'\n",
      "[obd.obd] Sending command: b'0105': Engine Coolant Temperature\n",
      "[obd.elm327] write: b'01051\\r'\n",
      "[obd.elm327] read: b'7E8 03 41 05 80 \\r\\r>'\n",
      "[obd.obd] Sending command: b'0142': Control module voltage\n",
      "[obd.elm327] write: b'01421\\r'\n",
      "[obd.elm327] read: b'7E8 04 41 42 32 A0 \\r\\r>'\n"
     ]
    },
    {
     "name": "stdout",
     "output_type": "stream",
     "text": [
      "send:  {'SPEED': '0.0', 'RPM': '750.0', 'COOLANT_TEMP': '88', 'VOLTAGE': '12.96'} result:  succeeded\n"
     ]
    },
    {
     "name": "stderr",
     "output_type": "stream",
     "text": [
      "[obd.obd] Sending command: b'010D': Vehicle Speed\n",
      "[obd.elm327] write: b'010D1\\r'\n",
      "[obd.elm327] read: b'7E8 03 41 0D 00 \\r\\r>'\n",
      "[obd.obd] Sending command: b'010C': Engine RPM\n",
      "[obd.elm327] write: b'010C1\\r'\n",
      "[obd.elm327] read: b'7E8 04 41 0C 0B 86 \\r\\r>'\n",
      "[obd.obd] Sending command: b'0105': Engine Coolant Temperature\n",
      "[obd.elm327] write: b'01051\\r'\n",
      "[obd.elm327] read: b'7E8 03 41 05 80 \\r\\r>'\n",
      "[obd.obd] Sending command: b'0142': Control module voltage\n",
      "[obd.elm327] write: b'01421\\r'\n",
      "[obd.elm327] read: b'7E8 04 41 42 33 40 \\r\\r>'\n"
     ]
    },
    {
     "name": "stdout",
     "output_type": "stream",
     "text": [
      "send:  {'SPEED': '0.0', 'RPM': '737.5', 'COOLANT_TEMP': '88', 'VOLTAGE': '13.120000000000001'} result:  succeeded\n"
     ]
    },
    {
     "name": "stderr",
     "output_type": "stream",
     "text": [
      "[obd.obd] Sending command: b'010D': Vehicle Speed\n",
      "[obd.elm327] write: b'010D1\\r'\n",
      "[obd.elm327] read: b'7E8 03 41 0D 02 \\r\\r>'\n",
      "[obd.obd] Sending command: b'010C': Engine RPM\n",
      "[obd.elm327] write: b'010C1\\r'\n",
      "[obd.elm327] read: b'7E8 04 41 0C 0C 4E \\r\\r>'\n",
      "[obd.obd] Sending command: b'0105': Engine Coolant Temperature\n",
      "[obd.elm327] write: b'01051\\r'\n",
      "[obd.elm327] read: b'7E8 03 41 05 80 \\r\\r>'\n",
      "[obd.obd] Sending command: b'0142': Control module voltage\n",
      "[obd.elm327] write: b'01421\\r'\n",
      "[obd.elm327] read: b'7E8 04 41 42 32 A0 \\r\\r>'\n"
     ]
    },
    {
     "name": "stdout",
     "output_type": "stream",
     "text": [
      "send:  {'SPEED': '2.0', 'RPM': '787.5', 'COOLANT_TEMP': '88', 'VOLTAGE': '12.96'} result:  succeeded\n"
     ]
    },
    {
     "name": "stderr",
     "output_type": "stream",
     "text": [
      "[obd.obd] Sending command: b'010D': Vehicle Speed\n",
      "[obd.elm327] write: b'010D1\\r'\n",
      "[obd.elm327] read: b'7E8 03 41 0D 00 \\r\\r>'\n",
      "[obd.obd] Sending command: b'010C': Engine RPM\n",
      "[obd.elm327] write: b'010C1\\r'\n",
      "[obd.elm327] read: b'7E8 04 41 0C 0B 86 \\r\\r>'\n",
      "[obd.obd] Sending command: b'0105': Engine Coolant Temperature\n",
      "[obd.elm327] write: b'01051\\r'\n",
      "[obd.elm327] read: b'7E8 03 41 05 80 \\r\\r>'\n",
      "[obd.obd] Sending command: b'0142': Control module voltage\n",
      "[obd.elm327] write: b'01421\\r'\n",
      "[obd.elm327] read: b'7E8 04 41 42 32 A0 \\r\\r>'\n"
     ]
    },
    {
     "name": "stdout",
     "output_type": "stream",
     "text": [
      "send:  {'SPEED': '0.0', 'RPM': '737.5', 'COOLANT_TEMP': '88', 'VOLTAGE': '12.96'} result:  succeeded\n"
     ]
    },
    {
     "name": "stderr",
     "output_type": "stream",
     "text": [
      "[obd.obd] Sending command: b'010D': Vehicle Speed\n",
      "[obd.elm327] write: b'010D1\\r'\n",
      "[obd.elm327] read: b'7E8 03 41 0D 00 \\r\\r>'\n",
      "[obd.obd] Sending command: b'010C': Engine RPM\n",
      "[obd.elm327] write: b'010C1\\r'\n",
      "[obd.elm327] read: b'7E8 04 41 0C 0B B8 \\r\\r>'\n",
      "[obd.obd] Sending command: b'0105': Engine Coolant Temperature\n",
      "[obd.elm327] write: b'01051\\r'\n",
      "[obd.elm327] read: b'7E8 03 41 05 81 \\r\\r>'\n",
      "[obd.obd] Sending command: b'0142': Control module voltage\n",
      "[obd.elm327] write: b'01421\\r'\n",
      "[obd.elm327] read: b'7E8 04 41 42 32 A0 \\r\\r>'\n"
     ]
    },
    {
     "name": "stdout",
     "output_type": "stream",
     "text": [
      "send:  {'SPEED': '0.0', 'RPM': '750.0', 'COOLANT_TEMP': '89', 'VOLTAGE': '12.96'} result:  succeeded\n"
     ]
    },
    {
     "name": "stderr",
     "output_type": "stream",
     "text": [
      "[obd.obd] Sending command: b'010D': Vehicle Speed\n",
      "[obd.elm327] write: b'010D1\\r'\n",
      "[obd.elm327] read: b'7E8 03 41 0D 00 \\r\\r>'\n",
      "[obd.obd] Sending command: b'010C': Engine RPM\n",
      "[obd.elm327] write: b'010C1\\r'\n",
      "[obd.elm327] read: b'7E8 04 41 0C 0B EA \\r\\r>'\n",
      "[obd.obd] Sending command: b'0105': Engine Coolant Temperature\n",
      "[obd.elm327] write: b'01051\\r'\n",
      "[obd.elm327] read: b'7E8 03 41 05 81 \\r\\r>'\n",
      "[obd.obd] Sending command: b'0142': Control module voltage\n",
      "[obd.elm327] write: b'01421\\r'\n",
      "[obd.elm327] read: b'7E8 04 41 42 33 40 \\r\\r>'\n"
     ]
    },
    {
     "name": "stdout",
     "output_type": "stream",
     "text": [
      "send:  {'SPEED': '0.0', 'RPM': '762.5', 'COOLANT_TEMP': '89', 'VOLTAGE': '13.120000000000001'} result:  succeeded\n"
     ]
    },
    {
     "name": "stderr",
     "output_type": "stream",
     "text": [
      "[obd.obd] Sending command: b'010D': Vehicle Speed\n",
      "[obd.elm327] write: b'010D1\\r'\n",
      "[obd.elm327] read: b'7E8 03 41 0D 00 \\r\\r>'\n",
      "[obd.obd] Sending command: b'010C': Engine RPM\n",
      "[obd.elm327] write: b'010C1\\r'\n",
      "[obd.elm327] read: b'7E8 04 41 0C 0C 80 \\r\\r>'\n",
      "[obd.obd] Sending command: b'0105': Engine Coolant Temperature\n",
      "[obd.elm327] write: b'01051\\r'\n",
      "[obd.elm327] read: b'7E8 03 41 05 81 \\r\\r>'\n",
      "[obd.obd] Sending command: b'0142': Control module voltage\n",
      "[obd.elm327] write: b'01421\\r'\n",
      "[obd.elm327] read: b'7E8 04 41 42 32 A0 \\r\\r>'\n"
     ]
    },
    {
     "name": "stdout",
     "output_type": "stream",
     "text": [
      "send:  {'SPEED': '0.0', 'RPM': '800.0', 'COOLANT_TEMP': '89', 'VOLTAGE': '12.96'} result:  succeeded\n"
     ]
    },
    {
     "name": "stderr",
     "output_type": "stream",
     "text": [
      "[obd.obd] Sending command: b'010D': Vehicle Speed\n",
      "[obd.elm327] write: b'010D1\\r'\n",
      "[obd.elm327] read: b'7E8 03 41 0D 0A \\r\\r>'\n",
      "[obd.obd] Sending command: b'010C': Engine RPM\n",
      "[obd.elm327] write: b'010C1\\r'\n",
      "[obd.elm327] read: b'7E8 04 41 0C 18 38 \\r\\r>'\n",
      "[obd.obd] Sending command: b'0105': Engine Coolant Temperature\n",
      "[obd.elm327] write: b'01051\\r'\n",
      "[obd.elm327] read: b'7E8 03 41 05 80 \\r\\r>'\n",
      "[obd.obd] Sending command: b'0142': Control module voltage\n",
      "[obd.elm327] write: b'01421\\r'\n",
      "[obd.elm327] read: b'7E8 04 41 42 33 90 \\r\\r>'\n"
     ]
    },
    {
     "name": "stdout",
     "output_type": "stream",
     "text": [
      "send:  {'SPEED': '10.0', 'RPM': '1550.0', 'COOLANT_TEMP': '88', 'VOLTAGE': '13.200000000000001'} result:  succeeded\n"
     ]
    },
    {
     "name": "stderr",
     "output_type": "stream",
     "text": [
      "[obd.obd] Sending command: b'010D': Vehicle Speed\n",
      "[obd.elm327] write: b'010D1\\r'\n",
      "[obd.elm327] read: b'7E8 03 41 0D 1C \\r\\r>'\n",
      "[obd.obd] Sending command: b'010C': Engine RPM\n",
      "[obd.elm327] write: b'010C1\\r'\n",
      "[obd.elm327] read: b'7E8 04 41 0C 16 44 \\r\\r>'\n",
      "[obd.obd] Sending command: b'0105': Engine Coolant Temperature\n",
      "[obd.elm327] write: b'01051\\r'\n",
      "[obd.elm327] read: b'7E8 03 41 05 7F \\r\\r>'\n",
      "[obd.obd] Sending command: b'0142': Control module voltage\n",
      "[obd.elm327] write: b'01421\\r'\n",
      "[obd.elm327] read: b'7E8 04 41 42 33 90 \\r\\r>'\n"
     ]
    },
    {
     "name": "stdout",
     "output_type": "stream",
     "text": [
      "send:  {'SPEED': '28.0', 'RPM': '1425.0', 'COOLANT_TEMP': '87', 'VOLTAGE': '13.200000000000001'} result:  succeeded\n"
     ]
    },
    {
     "name": "stderr",
     "output_type": "stream",
     "text": [
      "[obd.obd] Sending command: b'010D': Vehicle Speed\n",
      "[obd.elm327] write: b'010D1\\r'\n",
      "[obd.elm327] read: b'7E8 03 41 0D 22 \\r\\r>'\n",
      "[obd.obd] Sending command: b'010C': Engine RPM\n",
      "[obd.elm327] write: b'010C1\\r'\n",
      "[obd.elm327] read: b'7E8 04 41 0C 11 C6 \\r\\r>'\n",
      "[obd.obd] Sending command: b'0105': Engine Coolant Temperature\n",
      "[obd.elm327] write: b'01051\\r'\n",
      "[obd.elm327] read: b'7E8 03 41 05 80 \\r\\r>'\n",
      "[obd.obd] Sending command: b'0142': Control module voltage\n",
      "[obd.elm327] write: b'01421\\r'\n",
      "[obd.elm327] read: b'7E8 04 41 42 33 40 \\r\\r>'\n"
     ]
    },
    {
     "name": "stdout",
     "output_type": "stream",
     "text": [
      "send:  {'SPEED': '34.0', 'RPM': '1137.5', 'COOLANT_TEMP': '88', 'VOLTAGE': '13.120000000000001'} result:  succeeded\n"
     ]
    },
    {
     "name": "stderr",
     "output_type": "stream",
     "text": [
      "[obd.obd] Sending command: b'010D': Vehicle Speed\n",
      "[obd.elm327] write: b'010D1\\r'\n",
      "[obd.elm327] read: b'7E8 03 41 0D 20 \\r\\r>'\n",
      "[obd.obd] Sending command: b'010C': Engine RPM\n",
      "[obd.elm327] write: b'010C1\\r'\n",
      "[obd.elm327] read: b'7E8 04 41 0C 10 9A \\r\\r>'\n",
      "[obd.obd] Sending command: b'0105': Engine Coolant Temperature\n",
      "[obd.elm327] write: b'01051\\r'\n",
      "[obd.elm327] read: b'7E8 03 41 05 80 \\r\\r>'\n",
      "[obd.obd] Sending command: b'0142': Control module voltage\n",
      "[obd.elm327] write: b'01421\\r'\n",
      "[obd.elm327] read: b'7E8 04 41 42 33 90 \\r\\r>'\n"
     ]
    },
    {
     "name": "stdout",
     "output_type": "stream",
     "text": [
      "send:  {'SPEED': '32.0', 'RPM': '1062.5', 'COOLANT_TEMP': '88', 'VOLTAGE': '13.200000000000001'} result:  succeeded\n"
     ]
    },
    {
     "name": "stderr",
     "output_type": "stream",
     "text": [
      "[obd.obd] Sending command: b'010D': Vehicle Speed\n",
      "[obd.elm327] write: b'010D1\\r'\n",
      "[obd.elm327] read: b'7E8 03 41 0D 1E \\r\\r>'\n",
      "[obd.obd] Sending command: b'010C': Engine RPM\n",
      "[obd.elm327] write: b'010C1\\r'\n",
      "[obd.elm327] read: b'7E8 04 41 0C 10 FE \\r\\r>'\n",
      "[obd.obd] Sending command: b'0105': Engine Coolant Temperature\n",
      "[obd.elm327] write: b'01051\\r'\n",
      "[obd.elm327] read: b'7E8 03 41 05 80 \\r\\r>'\n",
      "[obd.obd] Sending command: b'0142': Control module voltage\n",
      "[obd.elm327] write: b'01421\\r'\n",
      "[obd.elm327] read: b'7E8 04 41 42 33 90 \\r\\r>'\n"
     ]
    },
    {
     "name": "stdout",
     "output_type": "stream",
     "text": [
      "send:  {'SPEED': '30.0', 'RPM': '1087.5', 'COOLANT_TEMP': '88', 'VOLTAGE': '13.200000000000001'} result:  succeeded\n"
     ]
    },
    {
     "name": "stderr",
     "output_type": "stream",
     "text": [
      "[obd.obd] Sending command: b'010D': Vehicle Speed\n",
      "[obd.elm327] write: b'010D1\\r'\n",
      "[obd.elm327] read: b'7E8 03 41 0D 26 \\r\\r>'\n",
      "[obd.obd] Sending command: b'010C': Engine RPM\n",
      "[obd.elm327] write: b'010C1\\r'\n",
      "[obd.elm327] read: b'7E8 04 41 0C 11 C6 \\r\\r>'\n",
      "[obd.obd] Sending command: b'0105': Engine Coolant Temperature\n",
      "[obd.elm327] write: b'01051\\r'\n",
      "[obd.elm327] read: b'7E8 03 41 05 80 \\r\\r>'\n",
      "[obd.obd] Sending command: b'0142': Control module voltage\n",
      "[obd.elm327] write: b'01421\\r'\n",
      "[obd.elm327] read: b'7E8 04 41 42 32 F0 \\r\\r>'\n"
     ]
    },
    {
     "name": "stdout",
     "output_type": "stream",
     "text": [
      "send:  {'SPEED': '38.0', 'RPM': '1137.5', 'COOLANT_TEMP': '88', 'VOLTAGE': '13.040000000000001'} result:  succeeded\n"
     ]
    },
    {
     "name": "stderr",
     "output_type": "stream",
     "text": [
      "[obd.obd] Sending command: b'010D': Vehicle Speed\n",
      "[obd.elm327] write: b'010D1\\r'\n",
      "[obd.elm327] read: b'7E8 03 41 0D 26 \\r\\r>'\n",
      "[obd.obd] Sending command: b'010C': Engine RPM\n",
      "[obd.elm327] write: b'010C1\\r'\n",
      "[obd.elm327] read: b'7E8 04 41 0C 11 62 \\r\\r>'\n",
      "[obd.obd] Sending command: b'0105': Engine Coolant Temperature\n",
      "[obd.elm327] write: b'01051\\r'\n",
      "[obd.elm327] read: b'7E8 03 41 05 80 \\r\\r>'\n",
      "[obd.obd] Sending command: b'0142': Control module voltage\n",
      "[obd.elm327] write: b'01421\\r'\n",
      "[obd.elm327] read: b'7E8 04 41 42 32 F0 \\r\\r>'\n"
     ]
    },
    {
     "name": "stdout",
     "output_type": "stream",
     "text": [
      "send:  {'SPEED': '38.0', 'RPM': '1112.5', 'COOLANT_TEMP': '88', 'VOLTAGE': '13.040000000000001'} result:  succeeded\n"
     ]
    },
    {
     "name": "stderr",
     "output_type": "stream",
     "text": [
      "[obd.obd] Sending command: b'010D': Vehicle Speed\n",
      "[obd.elm327] write: b'010D1\\r'\n",
      "[obd.elm327] read: b'7E8 03 41 0D 18 \\r\\r>'\n",
      "[obd.obd] Sending command: b'010C': Engine RPM\n",
      "[obd.elm327] write: b'010C1\\r'\n",
      "[obd.elm327] read: b'7E8 04 41 0C 12 8E \\r\\r>'\n",
      "[obd.obd] Sending command: b'0105': Engine Coolant Temperature\n",
      "[obd.elm327] write: b'01051\\r'\n",
      "[obd.elm327] read: b'7E8 03 41 05 80 \\r\\r>'\n",
      "[obd.obd] Sending command: b'0142': Control module voltage\n",
      "[obd.elm327] write: b'01421\\r'\n",
      "[obd.elm327] read: b'7E8 04 41 42 33 40 \\r\\r>'\n"
     ]
    },
    {
     "name": "stdout",
     "output_type": "stream",
     "text": [
      "send:  {'SPEED': '24.0', 'RPM': '1187.5', 'COOLANT_TEMP': '88', 'VOLTAGE': '13.120000000000001'} result:  succeeded\n"
     ]
    },
    {
     "name": "stderr",
     "output_type": "stream",
     "text": [
      "[obd.obd] Sending command: b'010D': Vehicle Speed\n",
      "[obd.elm327] write: b'010D1\\r'\n",
      "[obd.elm327] read: b'7E8 03 41 0D 20 \\r\\r>'\n",
      "[obd.obd] Sending command: b'010C': Engine RPM\n",
      "[obd.elm327] write: b'010C1\\r'\n",
      "[obd.elm327] read: b'7E8 04 41 0C 11 F8 \\r\\r>'\n",
      "[obd.obd] Sending command: b'0105': Engine Coolant Temperature\n",
      "[obd.elm327] write: b'01051\\r'\n",
      "[obd.elm327] read: b'7E8 03 41 05 7F \\r\\r>'\n",
      "[obd.obd] Sending command: b'0142': Control module voltage\n",
      "[obd.elm327] write: b'01421\\r'\n",
      "[obd.elm327] read: b'7E8 04 41 42 33 40 \\r\\r>'\n"
     ]
    },
    {
     "name": "stdout",
     "output_type": "stream",
     "text": [
      "send:  {'SPEED': '32.0', 'RPM': '1150.0', 'COOLANT_TEMP': '87', 'VOLTAGE': '13.120000000000001'} result:  succeeded\n"
     ]
    },
    {
     "name": "stderr",
     "output_type": "stream",
     "text": [
      "[obd.obd] Sending command: b'010D': Vehicle Speed\n",
      "[obd.elm327] write: b'010D1\\r'\n",
      "[obd.elm327] read: b'7E8 03 41 0D 24 \\r\\r>'\n",
      "[obd.obd] Sending command: b'010C': Engine RPM\n",
      "[obd.elm327] write: b'010C1\\r'\n",
      "[obd.elm327] read: b'7E8 04 41 0C 11 62 \\r\\r>'\n",
      "[obd.obd] Sending command: b'0105': Engine Coolant Temperature\n",
      "[obd.elm327] write: b'01051\\r'\n",
      "[obd.elm327] read: b'7E8 03 41 05 7F \\r\\r>'\n",
      "[obd.obd] Sending command: b'0142': Control module voltage\n",
      "[obd.elm327] write: b'01421\\r'\n",
      "[obd.elm327] read: b'7E8 04 41 42 33 90 \\r\\r>'\n"
     ]
    },
    {
     "name": "stdout",
     "output_type": "stream",
     "text": [
      "send:  {'SPEED': '36.0', 'RPM': '1112.5', 'COOLANT_TEMP': '87', 'VOLTAGE': '13.200000000000001'} result:  succeeded\n"
     ]
    },
    {
     "name": "stderr",
     "output_type": "stream",
     "text": [
      "[obd.obd] Sending command: b'010D': Vehicle Speed\n",
      "[obd.elm327] write: b'010D1\\r'\n",
      "[obd.elm327] read: b'7E8 03 41 0D 24 \\r\\r>'\n",
      "[obd.obd] Sending command: b'010C': Engine RPM\n",
      "[obd.elm327] write: b'010C1\\r'\n",
      "[obd.elm327] read: b'7E8 04 41 0C 11 C6 \\r\\r>'\n",
      "[obd.obd] Sending command: b'0105': Engine Coolant Temperature\n",
      "[obd.elm327] write: b'01051\\r'\n",
      "[obd.elm327] read: b'7E8 03 41 05 7F \\r\\r>'\n",
      "[obd.obd] Sending command: b'0142': Control module voltage\n",
      "[obd.elm327] write: b'01421\\r'\n",
      "[obd.elm327] read: b'7E8 04 41 42 33 90 \\r\\r>'\n"
     ]
    },
    {
     "name": "stdout",
     "output_type": "stream",
     "text": [
      "send:  {'SPEED': '36.0', 'RPM': '1137.5', 'COOLANT_TEMP': '87', 'VOLTAGE': '13.200000000000001'} result:  succeeded\n"
     ]
    },
    {
     "name": "stderr",
     "output_type": "stream",
     "text": [
      "[obd.obd] Sending command: b'010D': Vehicle Speed\n",
      "[obd.elm327] write: b'010D1\\r'\n",
      "[obd.elm327] read: b'7E8 03 41 0D 20 \\r\\r>'\n",
      "[obd.obd] Sending command: b'010C': Engine RPM\n",
      "[obd.elm327] write: b'010C1\\r'\n",
      "[obd.elm327] read: b'7E8 04 41 0C 10 FE \\r\\r>'\n",
      "[obd.obd] Sending command: b'0105': Engine Coolant Temperature\n",
      "[obd.elm327] write: b'01051\\r'\n",
      "[obd.elm327] read: b'7E8 03 41 05 7F \\r\\r>'\n",
      "[obd.obd] Sending command: b'0142': Control module voltage\n",
      "[obd.elm327] write: b'01421\\r'\n",
      "[obd.elm327] read: b'7E8 04 41 42 33 90 \\r\\r>'\n"
     ]
    },
    {
     "name": "stdout",
     "output_type": "stream",
     "text": [
      "send:  {'SPEED': '32.0', 'RPM': '1087.5', 'COOLANT_TEMP': '87', 'VOLTAGE': '13.200000000000001'} result:  succeeded\n"
     ]
    },
    {
     "name": "stderr",
     "output_type": "stream",
     "text": [
      "[obd.obd] Sending command: b'010D': Vehicle Speed\n",
      "[obd.elm327] write: b'010D1\\r'\n",
      "[obd.elm327] read: b'7E8 03 41 0D 04 \\r\\r>'\n",
      "[obd.obd] Sending command: b'010C': Engine RPM\n",
      "[obd.elm327] write: b'010C1\\r'\n",
      "[obd.elm327] read: b'7E8 04 41 0C 0D AC \\r\\r>'\n",
      "[obd.obd] Sending command: b'0105': Engine Coolant Temperature\n",
      "[obd.elm327] write: b'01051\\r'\n",
      "[obd.elm327] read: b'7E8 03 41 05 7E \\r\\r>'\n",
      "[obd.obd] Sending command: b'0142': Control module voltage\n",
      "[obd.elm327] write: b'01421\\r'\n",
      "[obd.elm327] read: b'7E8 04 41 42 32 A0 \\r\\r>'\n"
     ]
    },
    {
     "name": "stdout",
     "output_type": "stream",
     "text": [
      "send:  {'SPEED': '4.0', 'RPM': '875.0', 'COOLANT_TEMP': '86', 'VOLTAGE': '12.96'} result:  succeeded\n"
     ]
    },
    {
     "name": "stderr",
     "output_type": "stream",
     "text": [
      "[obd.obd] Sending command: b'010D': Vehicle Speed\n",
      "[obd.elm327] write: b'010D1\\r'\n",
      "[obd.elm327] read: b'7E8 03 41 0D 00 \\r\\r>'\n",
      "[obd.obd] Sending command: b'010C': Engine RPM\n",
      "[obd.elm327] write: b'010C1\\r'\n",
      "[obd.elm327] read: b'7E8 04 41 0C 0B B8 \\r\\r>'\n",
      "[obd.obd] Sending command: b'0105': Engine Coolant Temperature\n",
      "[obd.elm327] write: b'01051\\r'\n",
      "[obd.elm327] read: b'7E8 03 41 05 7F \\r\\r>'\n",
      "[obd.obd] Sending command: b'0142': Control module voltage\n",
      "[obd.elm327] write: b'01421\\r'\n",
      "[obd.elm327] read: b'7E8 04 41 42 32 F0 \\r\\r>'\n"
     ]
    },
    {
     "name": "stdout",
     "output_type": "stream",
     "text": [
      "send:  {'SPEED': '0.0', 'RPM': '750.0', 'COOLANT_TEMP': '87', 'VOLTAGE': '13.040000000000001'} result:  succeeded\n"
     ]
    },
    {
     "name": "stderr",
     "output_type": "stream",
     "text": [
      "[obd.obd] Sending command: b'010D': Vehicle Speed\n",
      "[obd.elm327] write: b'010D1\\r'\n",
      "[obd.elm327] read: b'7E8 03 41 0D 00 \\r\\r>'\n",
      "[obd.obd] Sending command: b'010C': Engine RPM\n",
      "[obd.elm327] write: b'010C1\\r'\n",
      "[obd.elm327] read: b'7E8 04 41 0C 0B 54 \\r\\r>'\n",
      "[obd.obd] Sending command: b'0105': Engine Coolant Temperature\n",
      "[obd.elm327] write: b'01051\\r'\n",
      "[obd.elm327] read: b'7E8 03 41 05 80 \\r\\r>'\n",
      "[obd.obd] Sending command: b'0142': Control module voltage\n",
      "[obd.elm327] write: b'01421\\r'\n",
      "[obd.elm327] read: b'7E8 04 41 42 32 50 \\r\\r>'\n"
     ]
    },
    {
     "name": "stdout",
     "output_type": "stream",
     "text": [
      "send:  {'SPEED': '0.0', 'RPM': '725.0', 'COOLANT_TEMP': '88', 'VOLTAGE': '12.88'} result:  succeeded\n"
     ]
    },
    {
     "name": "stderr",
     "output_type": "stream",
     "text": [
      "[obd.obd] Sending command: b'010D': Vehicle Speed\n",
      "[obd.elm327] write: b'010D1\\r'\n",
      "[obd.elm327] read: b'7E8 03 41 0D 1E \\r\\r>'\n",
      "[obd.obd] Sending command: b'010C': Engine RPM\n",
      "[obd.elm327] write: b'010C1\\r'\n",
      "[obd.elm327] read: b'7E8 04 41 0C 11 F8 \\r\\r>'\n",
      "[obd.obd] Sending command: b'0105': Engine Coolant Temperature\n",
      "[obd.elm327] write: b'01051\\r'\n",
      "[obd.elm327] read: b'7E8 03 41 05 80 \\r\\r>'\n",
      "[obd.obd] Sending command: b'0142': Control module voltage\n",
      "[obd.elm327] write: b'01421\\r'\n",
      "[obd.elm327] read: b'7E8 04 41 42 33 E0 \\r\\r>'\n"
     ]
    },
    {
     "name": "stdout",
     "output_type": "stream",
     "text": [
      "send:  {'SPEED': '30.0', 'RPM': '1150.0', 'COOLANT_TEMP': '88', 'VOLTAGE': '13.280000000000001'} result:  succeeded\n"
     ]
    },
    {
     "name": "stderr",
     "output_type": "stream",
     "text": [
      "[obd.obd] Sending command: b'010D': Vehicle Speed\n",
      "[obd.elm327] write: b'010D1\\r'\n",
      "[obd.elm327] read: b'7E8 03 41 0D 26 \\r\\r>'\n",
      "[obd.obd] Sending command: b'010C': Engine RPM\n",
      "[obd.elm327] write: b'010C1\\r'\n",
      "[obd.elm327] read: b'7E8 04 41 0C 11 94 \\r\\r>'\n",
      "[obd.obd] Sending command: b'0105': Engine Coolant Temperature\n",
      "[obd.elm327] write: b'01051\\r'\n",
      "[obd.elm327] read: b'7E8 03 41 05 80 \\r\\r>'\n",
      "[obd.obd] Sending command: b'0142': Control module voltage\n",
      "[obd.elm327] write: b'01421\\r'\n",
      "[obd.elm327] read: b'7E8 04 41 42 33 40 \\r\\r>'\n"
     ]
    },
    {
     "name": "stdout",
     "output_type": "stream",
     "text": [
      "send:  {'SPEED': '38.0', 'RPM': '1125.0', 'COOLANT_TEMP': '88', 'VOLTAGE': '13.120000000000001'} result:  succeeded\n"
     ]
    },
    {
     "name": "stderr",
     "output_type": "stream",
     "text": [
      "[obd.obd] Sending command: b'010D': Vehicle Speed\n",
      "[obd.elm327] write: b'010D1\\r'\n",
      "[obd.elm327] read: b'7E8 03 41 0D 22 \\r\\r>'\n",
      "[obd.obd] Sending command: b'010C': Engine RPM\n",
      "[obd.elm327] write: b'010C1\\r'\n",
      "[obd.elm327] read: b'7E8 04 41 0C 10 FE \\r\\r>'\n",
      "[obd.obd] Sending command: b'0105': Engine Coolant Temperature\n",
      "[obd.elm327] write: b'01051\\r'\n",
      "[obd.elm327] read: b'7E8 03 41 05 80 \\r\\r>'\n",
      "[obd.obd] Sending command: b'0142': Control module voltage\n",
      "[obd.elm327] write: b'01421\\r'\n",
      "[obd.elm327] read: b'7E8 04 41 42 32 A0 \\r\\r>'\n"
     ]
    },
    {
     "name": "stdout",
     "output_type": "stream",
     "text": [
      "send:  {'SPEED': '34.0', 'RPM': '1087.5', 'COOLANT_TEMP': '88', 'VOLTAGE': '12.96'} result:  succeeded\n"
     ]
    },
    {
     "name": "stderr",
     "output_type": "stream",
     "text": [
      "[obd.obd] Sending command: b'010D': Vehicle Speed\n",
      "[obd.elm327] write: b'010D1\\r'\n",
      "[obd.elm327] read: b'7E8 03 41 0D 24 \\r\\r>'\n",
      "[obd.obd] Sending command: b'010C': Engine RPM\n",
      "[obd.elm327] write: b'010C1\\r'\n",
      "[obd.elm327] read: b'7E8 04 41 0C 10 CC \\r\\r>'\n",
      "[obd.obd] Sending command: b'0105': Engine Coolant Temperature\n",
      "[obd.elm327] write: b'01051\\r'\n",
      "[obd.elm327] read: b'7E8 03 41 05 7F \\r\\r>'\n",
      "[obd.obd] Sending command: b'0142': Control module voltage\n",
      "[obd.elm327] write: b'01421\\r'\n",
      "[obd.elm327] read: b'7E8 04 41 42 32 A0 \\r\\r>'\n"
     ]
    },
    {
     "name": "stdout",
     "output_type": "stream",
     "text": [
      "send:  {'SPEED': '36.0', 'RPM': '1075.0', 'COOLANT_TEMP': '87', 'VOLTAGE': '12.96'} result:  succeeded\n"
     ]
    },
    {
     "name": "stderr",
     "output_type": "stream",
     "text": [
      "[obd.obd] Sending command: b'010D': Vehicle Speed\n",
      "[obd.elm327] write: b'010D1\\r'\n",
      "[obd.elm327] read: b'7E8 03 41 0D 1A \\r\\r>'\n",
      "[obd.obd] Sending command: b'010C': Engine RPM\n",
      "[obd.elm327] write: b'010C1\\r'\n",
      "[obd.elm327] read: b'7E8 04 41 0C 11 30 \\r\\r>'\n",
      "[obd.obd] Sending command: b'0105': Engine Coolant Temperature\n",
      "[obd.elm327] write: b'01051\\r'\n",
      "[obd.elm327] read: b'7E8 03 41 05 7F \\r\\r>'\n",
      "[obd.obd] Sending command: b'0142': Control module voltage\n",
      "[obd.elm327] write: b'01421\\r'\n",
      "[obd.elm327] read: b'7E8 04 41 42 32 A0 \\r\\r>'\n"
     ]
    },
    {
     "name": "stdout",
     "output_type": "stream",
     "text": [
      "send:  {'SPEED': '26.0', 'RPM': '1100.0', 'COOLANT_TEMP': '87', 'VOLTAGE': '12.96'} result:  succeeded\n"
     ]
    },
    {
     "name": "stderr",
     "output_type": "stream",
     "text": [
      "[obd.obd] Sending command: b'010D': Vehicle Speed\n",
      "[obd.elm327] write: b'010D1\\r'\n",
      "[obd.elm327] read: b'7E8 03 41 0D 12 \\r\\r>'\n",
      "[obd.obd] Sending command: b'010C': Engine RPM\n",
      "[obd.elm327] write: b'010C1\\r'\n",
      "[obd.elm327] read: b'7E8 04 41 0C 13 24 \\r\\r>'\n",
      "[obd.obd] Sending command: b'0105': Engine Coolant Temperature\n",
      "[obd.elm327] write: b'01051\\r'\n",
      "[obd.elm327] read: b'7E8 03 41 05 7E \\r\\r>'\n",
      "[obd.obd] Sending command: b'0142': Control module voltage\n",
      "[obd.elm327] write: b'01421\\r'\n",
      "[obd.elm327] read: b'7E8 04 41 42 32 A0 \\r\\r>'\n"
     ]
    },
    {
     "name": "stdout",
     "output_type": "stream",
     "text": [
      "send:  {'SPEED': '18.0', 'RPM': '1225.0', 'COOLANT_TEMP': '86', 'VOLTAGE': '12.96'} result:  succeeded\n"
     ]
    },
    {
     "name": "stderr",
     "output_type": "stream",
     "text": [
      "[obd.obd] Sending command: b'010D': Vehicle Speed\n",
      "[obd.elm327] write: b'010D1\\r'\n",
      "[obd.elm327] read: b'7E8 03 41 0D 12 \\r\\r>'\n",
      "[obd.obd] Sending command: b'010C': Engine RPM\n",
      "[obd.elm327] write: b'010C1\\r'\n",
      "[obd.elm327] read: b'7E8 04 41 0C 15 4A \\r\\r>'\n",
      "[obd.obd] Sending command: b'0105': Engine Coolant Temperature\n",
      "[obd.elm327] write: b'01051\\r'\n",
      "[obd.elm327] read: b'7E8 03 41 05 7E \\r\\r>'\n",
      "[obd.obd] Sending command: b'0142': Control module voltage\n",
      "[obd.elm327] write: b'01421\\r'\n",
      "[obd.elm327] read: b'7E8 04 41 42 32 F0 \\r\\r>'\n"
     ]
    },
    {
     "name": "stdout",
     "output_type": "stream",
     "text": [
      "send:  {'SPEED': '18.0', 'RPM': '1362.5', 'COOLANT_TEMP': '86', 'VOLTAGE': '13.040000000000001'} result:  succeeded\n"
     ]
    },
    {
     "name": "stderr",
     "output_type": "stream",
     "text": [
      "[obd.obd] Sending command: b'010D': Vehicle Speed\n",
      "[obd.elm327] write: b'010D1\\r'\n",
      "[obd.elm327] read: b'7E8 03 41 0D 10 \\r\\r>'\n",
      "[obd.obd] Sending command: b'010C': Engine RPM\n",
      "[obd.elm327] write: b'010C1\\r'\n",
      "[obd.elm327] read: b'7E8 04 41 0C 11 30 \\r\\r>'\n",
      "[obd.obd] Sending command: b'0105': Engine Coolant Temperature\n",
      "[obd.elm327] write: b'01051\\r'\n",
      "[obd.elm327] read: b'7E8 03 41 05 7E \\r\\r>'\n",
      "[obd.obd] Sending command: b'0142': Control module voltage\n",
      "[obd.elm327] write: b'01421\\r'\n",
      "[obd.elm327] read: b'7E8 04 41 42 32 50 \\r\\r>'\n"
     ]
    },
    {
     "name": "stdout",
     "output_type": "stream",
     "text": [
      "send:  {'SPEED': '16.0', 'RPM': '1100.0', 'COOLANT_TEMP': '86', 'VOLTAGE': '12.88'} result:  succeeded\n"
     ]
    },
    {
     "name": "stderr",
     "output_type": "stream",
     "text": [
      "[obd.obd] Sending command: b'010D': Vehicle Speed\n",
      "[obd.elm327] write: b'010D1\\r'\n",
      "[obd.elm327] read: b'7E8 03 41 0D 04 \\r\\r>'\n",
      "[obd.obd] Sending command: b'010C': Engine RPM\n",
      "[obd.elm327] write: b'010C1\\r'\n",
      "[obd.elm327] read: b'7E8 04 41 0C 19 00 \\r\\r>'\n",
      "[obd.obd] Sending command: b'0105': Engine Coolant Temperature\n",
      "[obd.elm327] write: b'01051\\r'\n",
      "[obd.elm327] read: b'7E8 03 41 05 7F \\r\\r>'\n",
      "[obd.obd] Sending command: b'0142': Control module voltage\n",
      "[obd.elm327] write: b'01421\\r'\n",
      "[obd.elm327] read: b'7E8 04 41 42 32 F0 \\r\\r>'\n"
     ]
    },
    {
     "name": "stdout",
     "output_type": "stream",
     "text": [
      "send:  {'SPEED': '4.0', 'RPM': '1600.0', 'COOLANT_TEMP': '87', 'VOLTAGE': '13.040000000000001'} result:  succeeded\n"
     ]
    },
    {
     "name": "stderr",
     "output_type": "stream",
     "text": [
      "[obd.obd] Sending command: b'010D': Vehicle Speed\n",
      "[obd.elm327] write: b'010D1\\r'\n",
      "[obd.elm327] read: b'7E8 03 41 0D 20 \\r\\r>'\n",
      "[obd.obd] Sending command: b'010C': Engine RPM\n",
      "[obd.elm327] write: b'010C1\\r'\n",
      "[obd.elm327] read: b'7E8 04 41 0C 11 C6 \\r\\r>'\n",
      "[obd.obd] Sending command: b'0105': Engine Coolant Temperature\n",
      "[obd.elm327] write: b'01051\\r'\n",
      "[obd.elm327] read: b'7E8 03 41 05 7F \\r\\r>'\n",
      "[obd.obd] Sending command: b'0142': Control module voltage\n",
      "[obd.elm327] write: b'01421\\r'\n",
      "[obd.elm327] read: b'7E8 04 41 42 32 A0 \\r\\r>'\n"
     ]
    },
    {
     "name": "stdout",
     "output_type": "stream",
     "text": [
      "send:  {'SPEED': '32.0', 'RPM': '1137.5', 'COOLANT_TEMP': '87', 'VOLTAGE': '12.96'} result:  succeeded\n"
     ]
    },
    {
     "name": "stderr",
     "output_type": "stream",
     "text": [
      "[obd.obd] Sending command: b'010D': Vehicle Speed\n",
      "[obd.elm327] write: b'010D1\\r'\n",
      "[obd.elm327] read: b'7E8 03 41 0D 24 \\r\\r>'\n",
      "[obd.obd] Sending command: b'010C': Engine RPM\n",
      "[obd.elm327] write: b'010C1\\r'\n",
      "[obd.elm327] read: b'7E8 04 41 0C 12 C0 \\r\\r>'\n",
      "[obd.obd] Sending command: b'0105': Engine Coolant Temperature\n",
      "[obd.elm327] write: b'01051\\r'\n",
      "[obd.elm327] read: b'7E8 03 41 05 7F \\r\\r>'\n",
      "[obd.obd] Sending command: b'0142': Control module voltage\n",
      "[obd.elm327] write: b'01421\\r'\n",
      "[obd.elm327] read: b'7E8 04 41 42 32 A0 \\r\\r>'\n"
     ]
    },
    {
     "name": "stdout",
     "output_type": "stream",
     "text": [
      "send:  {'SPEED': '36.0', 'RPM': '1200.0', 'COOLANT_TEMP': '87', 'VOLTAGE': '12.96'} result:  succeeded\n"
     ]
    },
    {
     "name": "stderr",
     "output_type": "stream",
     "text": [
      "[obd.obd] Sending command: b'010D': Vehicle Speed\n",
      "[obd.elm327] write: b'010D1\\r'\n",
      "[obd.elm327] read: b'7E8 03 41 0D 16 \\r\\r>'\n",
      "[obd.obd] Sending command: b'010C': Engine RPM\n",
      "[obd.elm327] write: b'010C1\\r'\n",
      "[obd.elm327] read: b'7E8 04 41 0C 11 94 \\r\\r>'\n",
      "[obd.obd] Sending command: b'0105': Engine Coolant Temperature\n",
      "[obd.elm327] write: b'01051\\r'\n",
      "[obd.elm327] read: b'7E8 03 41 05 7F \\r\\r>'\n",
      "[obd.obd] Sending command: b'0142': Control module voltage\n",
      "[obd.elm327] write: b'01421\\r'\n",
      "[obd.elm327] read: b'7E8 04 41 42 32 F0 \\r\\r>'\n"
     ]
    },
    {
     "name": "stdout",
     "output_type": "stream",
     "text": [
      "send:  {'SPEED': '22.0', 'RPM': '1125.0', 'COOLANT_TEMP': '87', 'VOLTAGE': '13.040000000000001'} result:  succeeded\n"
     ]
    },
    {
     "name": "stderr",
     "output_type": "stream",
     "text": [
      "[obd.obd] Sending command: b'010D': Vehicle Speed\n",
      "[obd.elm327] write: b'010D1\\r'\n",
      "[obd.elm327] read: b'7E8 03 41 0D 0C \\r\\r>'\n",
      "[obd.obd] Sending command: b'010C': Engine RPM\n",
      "[obd.elm327] write: b'010C1\\r'\n",
      "[obd.elm327] read: b'7E8 04 41 0C 0F D2 \\r\\r>'\n",
      "[obd.obd] Sending command: b'0105': Engine Coolant Temperature\n",
      "[obd.elm327] write: b'01051\\r'\n",
      "[obd.elm327] read: b'7E8 03 41 05 7F \\r\\r>'\n",
      "[obd.obd] Sending command: b'0142': Control module voltage\n",
      "[obd.elm327] write: b'01421\\r'\n",
      "[obd.elm327] read: b'7E8 04 41 42 32 A0 \\r\\r>'\n"
     ]
    },
    {
     "name": "stdout",
     "output_type": "stream",
     "text": [
      "send:  {'SPEED': '12.0', 'RPM': '1012.5', 'COOLANT_TEMP': '87', 'VOLTAGE': '12.96'} result:  succeeded\n"
     ]
    },
    {
     "name": "stderr",
     "output_type": "stream",
     "text": [
      "[obd.obd] Sending command: b'010D': Vehicle Speed\n",
      "[obd.elm327] write: b'010D1\\r'\n",
      "[obd.elm327] read: b'7E8 03 41 0D 0A \\r\\r>'\n",
      "[obd.obd] Sending command: b'010C': Engine RPM\n",
      "[obd.elm327] write: b'010C1\\r'\n",
      "[obd.elm327] read: b'7E8 04 41 0C 0E 42 \\r\\r>'\n",
      "[obd.obd] Sending command: b'0105': Engine Coolant Temperature\n",
      "[obd.elm327] write: b'01051\\r'\n",
      "[obd.elm327] read: b'7E8 03 41 05 7F \\r\\r>'\n",
      "[obd.obd] Sending command: b'0142': Control module voltage\n",
      "[obd.elm327] write: b'01421\\r'\n",
      "[obd.elm327] read: b'7E8 04 41 42 32 A0 \\r\\r>'\n"
     ]
    },
    {
     "name": "stdout",
     "output_type": "stream",
     "text": [
      "send:  {'SPEED': '10.0', 'RPM': '912.5', 'COOLANT_TEMP': '87', 'VOLTAGE': '12.96'} result:  succeeded\n"
     ]
    },
    {
     "name": "stderr",
     "output_type": "stream",
     "text": [
      "[obd.obd] Sending command: b'010D': Vehicle Speed\n",
      "[obd.elm327] write: b'010D1\\r'\n",
      "[obd.elm327] read: b'7E8 03 41 0D 04 \\r\\r>'\n",
      "[obd.obd] Sending command: b'010C': Engine RPM\n",
      "[obd.elm327] write: b'010C1\\r'\n",
      "[obd.elm327] read: b'7E8 04 41 0C 11 94 \\r\\r>'\n",
      "[obd.obd] Sending command: b'0105': Engine Coolant Temperature\n",
      "[obd.elm327] write: b'01051\\r'\n",
      "[obd.elm327] read: b'7E8 03 41 05 80 \\r\\r>'\n",
      "[obd.obd] Sending command: b'0142': Control module voltage\n",
      "[obd.elm327] write: b'01421\\r'\n",
      "[obd.elm327] read: b'7E8 04 41 42 32 F0 \\r\\r>'\n"
     ]
    },
    {
     "name": "stdout",
     "output_type": "stream",
     "text": [
      "send:  {'SPEED': '4.0', 'RPM': '1125.0', 'COOLANT_TEMP': '88', 'VOLTAGE': '13.040000000000001'} result:  succeeded\n"
     ]
    },
    {
     "name": "stderr",
     "output_type": "stream",
     "text": [
      "[obd.obd] Sending command: b'010D': Vehicle Speed\n",
      "[obd.elm327] write: b'010D1\\r'\n",
      "[obd.elm327] read: b'7E8 03 41 0D 02 \\r\\r>'\n",
      "[obd.obd] Sending command: b'010C': Engine RPM\n",
      "[obd.elm327] write: b'010C1\\r'\n",
      "[obd.elm327] read: b'7E8 04 41 0C 0D 7A \\r\\r>'\n",
      "[obd.obd] Sending command: b'0105': Engine Coolant Temperature\n",
      "[obd.elm327] write: b'01051\\r'\n",
      "[obd.elm327] read: b'7E8 03 41 05 80 \\r\\r>'\n",
      "[obd.obd] Sending command: b'0142': Control module voltage\n",
      "[obd.elm327] write: b'01421\\r'\n",
      "[obd.elm327] read: b'7E8 04 41 42 32 A0 \\r\\r>'\n"
     ]
    },
    {
     "ename": "ConnectionError",
     "evalue": "HTTPSConnectionPool(host='dweet.io', port=443): Max retries exceeded with url: /dweet/for/malo_car_003?SPEED=2.0&RPM=862.5&COOLANT_TEMP=88&VOLTAGE=12.96 (Caused by NewConnectionError('<urllib3.connection.VerifiedHTTPSConnection object at 0x0000018E6C3AF160>: Failed to establish a new connection: [Errno 11001] getaddrinfo failed'))",
     "output_type": "error",
     "traceback": [
      "\u001b[1;31m---------------------------------------------------------------------------\u001b[0m",
      "\u001b[1;31mgaierror\u001b[0m                                  Traceback (most recent call last)",
      "\u001b[1;32m~\\Anaconda3\\lib\\site-packages\\urllib3\\connection.py\u001b[0m in \u001b[0;36m_new_conn\u001b[1;34m(self)\u001b[0m\n\u001b[0;32m    170\u001b[0m             conn = connection.create_connection(\n\u001b[1;32m--> 171\u001b[1;33m                 (self._dns_host, self.port), self.timeout, **extra_kw)\n\u001b[0m\u001b[0;32m    172\u001b[0m \u001b[1;33m\u001b[0m\u001b[0m\n",
      "\u001b[1;32m~\\Anaconda3\\lib\\site-packages\\urllib3\\util\\connection.py\u001b[0m in \u001b[0;36mcreate_connection\u001b[1;34m(address, timeout, source_address, socket_options)\u001b[0m\n\u001b[0;32m     55\u001b[0m \u001b[1;33m\u001b[0m\u001b[0m\n\u001b[1;32m---> 56\u001b[1;33m     \u001b[1;32mfor\u001b[0m \u001b[0mres\u001b[0m \u001b[1;32min\u001b[0m \u001b[0msocket\u001b[0m\u001b[1;33m.\u001b[0m\u001b[0mgetaddrinfo\u001b[0m\u001b[1;33m(\u001b[0m\u001b[0mhost\u001b[0m\u001b[1;33m,\u001b[0m \u001b[0mport\u001b[0m\u001b[1;33m,\u001b[0m \u001b[0mfamily\u001b[0m\u001b[1;33m,\u001b[0m \u001b[0msocket\u001b[0m\u001b[1;33m.\u001b[0m\u001b[0mSOCK_STREAM\u001b[0m\u001b[1;33m)\u001b[0m\u001b[1;33m:\u001b[0m\u001b[1;33m\u001b[0m\u001b[0m\n\u001b[0m\u001b[0;32m     57\u001b[0m         \u001b[0maf\u001b[0m\u001b[1;33m,\u001b[0m \u001b[0msocktype\u001b[0m\u001b[1;33m,\u001b[0m \u001b[0mproto\u001b[0m\u001b[1;33m,\u001b[0m \u001b[0mcanonname\u001b[0m\u001b[1;33m,\u001b[0m \u001b[0msa\u001b[0m \u001b[1;33m=\u001b[0m \u001b[0mres\u001b[0m\u001b[1;33m\u001b[0m\u001b[0m\n",
      "\u001b[1;32m~\\Anaconda3\\lib\\socket.py\u001b[0m in \u001b[0;36mgetaddrinfo\u001b[1;34m(host, port, family, type, proto, flags)\u001b[0m\n\u001b[0;32m    747\u001b[0m     \u001b[0maddrlist\u001b[0m \u001b[1;33m=\u001b[0m \u001b[1;33m[\u001b[0m\u001b[1;33m]\u001b[0m\u001b[1;33m\u001b[0m\u001b[0m\n\u001b[1;32m--> 748\u001b[1;33m     \u001b[1;32mfor\u001b[0m \u001b[0mres\u001b[0m \u001b[1;32min\u001b[0m \u001b[0m_socket\u001b[0m\u001b[1;33m.\u001b[0m\u001b[0mgetaddrinfo\u001b[0m\u001b[1;33m(\u001b[0m\u001b[0mhost\u001b[0m\u001b[1;33m,\u001b[0m \u001b[0mport\u001b[0m\u001b[1;33m,\u001b[0m \u001b[0mfamily\u001b[0m\u001b[1;33m,\u001b[0m \u001b[0mtype\u001b[0m\u001b[1;33m,\u001b[0m \u001b[0mproto\u001b[0m\u001b[1;33m,\u001b[0m \u001b[0mflags\u001b[0m\u001b[1;33m)\u001b[0m\u001b[1;33m:\u001b[0m\u001b[1;33m\u001b[0m\u001b[0m\n\u001b[0m\u001b[0;32m    749\u001b[0m         \u001b[0maf\u001b[0m\u001b[1;33m,\u001b[0m \u001b[0msocktype\u001b[0m\u001b[1;33m,\u001b[0m \u001b[0mproto\u001b[0m\u001b[1;33m,\u001b[0m \u001b[0mcanonname\u001b[0m\u001b[1;33m,\u001b[0m \u001b[0msa\u001b[0m \u001b[1;33m=\u001b[0m \u001b[0mres\u001b[0m\u001b[1;33m\u001b[0m\u001b[0m\n",
      "\u001b[1;31mgaierror\u001b[0m: [Errno 11001] getaddrinfo failed",
      "\nDuring handling of the above exception, another exception occurred:\n",
      "\u001b[1;31mNewConnectionError\u001b[0m                        Traceback (most recent call last)",
      "\u001b[1;32m~\\Anaconda3\\lib\\site-packages\\urllib3\\connectionpool.py\u001b[0m in \u001b[0;36murlopen\u001b[1;34m(self, method, url, body, headers, retries, redirect, assert_same_host, timeout, pool_timeout, release_conn, chunked, body_pos, **response_kw)\u001b[0m\n\u001b[0;32m    599\u001b[0m                                                   \u001b[0mbody\u001b[0m\u001b[1;33m=\u001b[0m\u001b[0mbody\u001b[0m\u001b[1;33m,\u001b[0m \u001b[0mheaders\u001b[0m\u001b[1;33m=\u001b[0m\u001b[0mheaders\u001b[0m\u001b[1;33m,\u001b[0m\u001b[1;33m\u001b[0m\u001b[0m\n\u001b[1;32m--> 600\u001b[1;33m                                                   chunked=chunked)\n\u001b[0m\u001b[0;32m    601\u001b[0m \u001b[1;33m\u001b[0m\u001b[0m\n",
      "\u001b[1;32m~\\Anaconda3\\lib\\site-packages\\urllib3\\connectionpool.py\u001b[0m in \u001b[0;36m_make_request\u001b[1;34m(self, conn, method, url, timeout, chunked, **httplib_request_kw)\u001b[0m\n\u001b[0;32m    342\u001b[0m         \u001b[1;32mtry\u001b[0m\u001b[1;33m:\u001b[0m\u001b[1;33m\u001b[0m\u001b[0m\n\u001b[1;32m--> 343\u001b[1;33m             \u001b[0mself\u001b[0m\u001b[1;33m.\u001b[0m\u001b[0m_validate_conn\u001b[0m\u001b[1;33m(\u001b[0m\u001b[0mconn\u001b[0m\u001b[1;33m)\u001b[0m\u001b[1;33m\u001b[0m\u001b[0m\n\u001b[0m\u001b[0;32m    344\u001b[0m         \u001b[1;32mexcept\u001b[0m \u001b[1;33m(\u001b[0m\u001b[0mSocketTimeout\u001b[0m\u001b[1;33m,\u001b[0m \u001b[0mBaseSSLError\u001b[0m\u001b[1;33m)\u001b[0m \u001b[1;32mas\u001b[0m \u001b[0me\u001b[0m\u001b[1;33m:\u001b[0m\u001b[1;33m\u001b[0m\u001b[0m\n",
      "\u001b[1;32m~\\Anaconda3\\lib\\site-packages\\urllib3\\connectionpool.py\u001b[0m in \u001b[0;36m_validate_conn\u001b[1;34m(self, conn)\u001b[0m\n\u001b[0;32m    848\u001b[0m         \u001b[1;32mif\u001b[0m \u001b[1;32mnot\u001b[0m \u001b[0mgetattr\u001b[0m\u001b[1;33m(\u001b[0m\u001b[0mconn\u001b[0m\u001b[1;33m,\u001b[0m \u001b[1;34m'sock'\u001b[0m\u001b[1;33m,\u001b[0m \u001b[1;32mNone\u001b[0m\u001b[1;33m)\u001b[0m\u001b[1;33m:\u001b[0m  \u001b[1;31m# AppEngine might not have  `.sock`\u001b[0m\u001b[1;33m\u001b[0m\u001b[0m\n\u001b[1;32m--> 849\u001b[1;33m             \u001b[0mconn\u001b[0m\u001b[1;33m.\u001b[0m\u001b[0mconnect\u001b[0m\u001b[1;33m(\u001b[0m\u001b[1;33m)\u001b[0m\u001b[1;33m\u001b[0m\u001b[0m\n\u001b[0m\u001b[0;32m    850\u001b[0m \u001b[1;33m\u001b[0m\u001b[0m\n",
      "\u001b[1;32m~\\Anaconda3\\lib\\site-packages\\urllib3\\connection.py\u001b[0m in \u001b[0;36mconnect\u001b[1;34m(self)\u001b[0m\n\u001b[0;32m    313\u001b[0m         \u001b[1;31m# Add certificate verification\u001b[0m\u001b[1;33m\u001b[0m\u001b[1;33m\u001b[0m\u001b[0m\n\u001b[1;32m--> 314\u001b[1;33m         \u001b[0mconn\u001b[0m \u001b[1;33m=\u001b[0m \u001b[0mself\u001b[0m\u001b[1;33m.\u001b[0m\u001b[0m_new_conn\u001b[0m\u001b[1;33m(\u001b[0m\u001b[1;33m)\u001b[0m\u001b[1;33m\u001b[0m\u001b[0m\n\u001b[0m\u001b[0;32m    315\u001b[0m \u001b[1;33m\u001b[0m\u001b[0m\n",
      "\u001b[1;32m~\\Anaconda3\\lib\\site-packages\\urllib3\\connection.py\u001b[0m in \u001b[0;36m_new_conn\u001b[1;34m(self)\u001b[0m\n\u001b[0;32m    179\u001b[0m             raise NewConnectionError(\n\u001b[1;32m--> 180\u001b[1;33m                 self, \"Failed to establish a new connection: %s\" % e)\n\u001b[0m\u001b[0;32m    181\u001b[0m \u001b[1;33m\u001b[0m\u001b[0m\n",
      "\u001b[1;31mNewConnectionError\u001b[0m: <urllib3.connection.VerifiedHTTPSConnection object at 0x0000018E6C3AF160>: Failed to establish a new connection: [Errno 11001] getaddrinfo failed",
      "\nDuring handling of the above exception, another exception occurred:\n",
      "\u001b[1;31mMaxRetryError\u001b[0m                             Traceback (most recent call last)",
      "\u001b[1;32m~\\Anaconda3\\lib\\site-packages\\requests\\adapters.py\u001b[0m in \u001b[0;36msend\u001b[1;34m(self, request, stream, timeout, verify, cert, proxies)\u001b[0m\n\u001b[0;32m    444\u001b[0m                     \u001b[0mretries\u001b[0m\u001b[1;33m=\u001b[0m\u001b[0mself\u001b[0m\u001b[1;33m.\u001b[0m\u001b[0mmax_retries\u001b[0m\u001b[1;33m,\u001b[0m\u001b[1;33m\u001b[0m\u001b[0m\n\u001b[1;32m--> 445\u001b[1;33m                     \u001b[0mtimeout\u001b[0m\u001b[1;33m=\u001b[0m\u001b[0mtimeout\u001b[0m\u001b[1;33m\u001b[0m\u001b[0m\n\u001b[0m\u001b[0;32m    446\u001b[0m                 )\n",
      "\u001b[1;32m~\\Anaconda3\\lib\\site-packages\\urllib3\\connectionpool.py\u001b[0m in \u001b[0;36murlopen\u001b[1;34m(self, method, url, body, headers, retries, redirect, assert_same_host, timeout, pool_timeout, release_conn, chunked, body_pos, **response_kw)\u001b[0m\n\u001b[0;32m    637\u001b[0m             retries = retries.increment(method, url, error=e, _pool=self,\n\u001b[1;32m--> 638\u001b[1;33m                                         _stacktrace=sys.exc_info()[2])\n\u001b[0m\u001b[0;32m    639\u001b[0m             \u001b[0mretries\u001b[0m\u001b[1;33m.\u001b[0m\u001b[0msleep\u001b[0m\u001b[1;33m(\u001b[0m\u001b[1;33m)\u001b[0m\u001b[1;33m\u001b[0m\u001b[0m\n",
      "\u001b[1;32m~\\Anaconda3\\lib\\site-packages\\urllib3\\util\\retry.py\u001b[0m in \u001b[0;36mincrement\u001b[1;34m(self, method, url, response, error, _pool, _stacktrace)\u001b[0m\n\u001b[0;32m    397\u001b[0m         \u001b[1;32mif\u001b[0m \u001b[0mnew_retry\u001b[0m\u001b[1;33m.\u001b[0m\u001b[0mis_exhausted\u001b[0m\u001b[1;33m(\u001b[0m\u001b[1;33m)\u001b[0m\u001b[1;33m:\u001b[0m\u001b[1;33m\u001b[0m\u001b[0m\n\u001b[1;32m--> 398\u001b[1;33m             \u001b[1;32mraise\u001b[0m \u001b[0mMaxRetryError\u001b[0m\u001b[1;33m(\u001b[0m\u001b[0m_pool\u001b[0m\u001b[1;33m,\u001b[0m \u001b[0murl\u001b[0m\u001b[1;33m,\u001b[0m \u001b[0merror\u001b[0m \u001b[1;32mor\u001b[0m \u001b[0mResponseError\u001b[0m\u001b[1;33m(\u001b[0m\u001b[0mcause\u001b[0m\u001b[1;33m)\u001b[0m\u001b[1;33m)\u001b[0m\u001b[1;33m\u001b[0m\u001b[0m\n\u001b[0m\u001b[0;32m    399\u001b[0m \u001b[1;33m\u001b[0m\u001b[0m\n",
      "\u001b[1;31mMaxRetryError\u001b[0m: HTTPSConnectionPool(host='dweet.io', port=443): Max retries exceeded with url: /dweet/for/malo_car_003?SPEED=2.0&RPM=862.5&COOLANT_TEMP=88&VOLTAGE=12.96 (Caused by NewConnectionError('<urllib3.connection.VerifiedHTTPSConnection object at 0x0000018E6C3AF160>: Failed to establish a new connection: [Errno 11001] getaddrinfo failed'))",
      "\nDuring handling of the above exception, another exception occurred:\n",
      "\u001b[1;31mConnectionError\u001b[0m                           Traceback (most recent call last)",
      "\u001b[1;32m<ipython-input-89-58906cd829c8>\u001b[0m in \u001b[0;36m<module>\u001b[1;34m()\u001b[0m\n\u001b[0;32m     22\u001b[0m         \u001b[0mtime\u001b[0m\u001b[1;33m.\u001b[0m\u001b[0msleep\u001b[0m\u001b[1;33m(\u001b[0m\u001b[1;36m0.1\u001b[0m\u001b[1;33m)\u001b[0m\u001b[1;33m\u001b[0m\u001b[0m\n\u001b[0;32m     23\u001b[0m \u001b[1;33m\u001b[0m\u001b[0m\n\u001b[1;32m---> 24\u001b[1;33m     \u001b[0mr\u001b[0m \u001b[1;33m=\u001b[0m \u001b[0mrequests\u001b[0m\u001b[1;33m.\u001b[0m\u001b[0mget\u001b[0m\u001b[1;33m(\u001b[0m\u001b[0murl\u001b[0m\u001b[1;33m,\u001b[0m \u001b[0mparams\u001b[0m\u001b[1;33m=\u001b[0m\u001b[0mdata\u001b[0m\u001b[1;33m)\u001b[0m\u001b[1;33m\u001b[0m\u001b[0m\n\u001b[0m\u001b[0;32m     25\u001b[0m     \u001b[0mprint\u001b[0m\u001b[1;33m(\u001b[0m\u001b[1;34m\"send: \"\u001b[0m\u001b[1;33m,\u001b[0m \u001b[0mdata\u001b[0m\u001b[1;33m,\u001b[0m \u001b[1;34m\"result: \"\u001b[0m\u001b[1;33m,\u001b[0m \u001b[0mr\u001b[0m\u001b[1;33m.\u001b[0m\u001b[0mjson\u001b[0m\u001b[1;33m(\u001b[0m\u001b[1;33m)\u001b[0m\u001b[1;33m[\u001b[0m\u001b[1;34m'this'\u001b[0m\u001b[1;33m]\u001b[0m\u001b[1;33m)\u001b[0m\u001b[1;33m\u001b[0m\u001b[0m\n\u001b[0;32m     26\u001b[0m     \u001b[0mtime\u001b[0m\u001b[1;33m.\u001b[0m\u001b[0msleep\u001b[0m\u001b[1;33m(\u001b[0m\u001b[1;36m1\u001b[0m\u001b[1;33m)\u001b[0m\u001b[1;33m\u001b[0m\u001b[0m\n",
      "\u001b[1;32m~\\Anaconda3\\lib\\site-packages\\requests\\api.py\u001b[0m in \u001b[0;36mget\u001b[1;34m(url, params, **kwargs)\u001b[0m\n\u001b[0;32m     70\u001b[0m \u001b[1;33m\u001b[0m\u001b[0m\n\u001b[0;32m     71\u001b[0m     \u001b[0mkwargs\u001b[0m\u001b[1;33m.\u001b[0m\u001b[0msetdefault\u001b[0m\u001b[1;33m(\u001b[0m\u001b[1;34m'allow_redirects'\u001b[0m\u001b[1;33m,\u001b[0m \u001b[1;32mTrue\u001b[0m\u001b[1;33m)\u001b[0m\u001b[1;33m\u001b[0m\u001b[0m\n\u001b[1;32m---> 72\u001b[1;33m     \u001b[1;32mreturn\u001b[0m \u001b[0mrequest\u001b[0m\u001b[1;33m(\u001b[0m\u001b[1;34m'get'\u001b[0m\u001b[1;33m,\u001b[0m \u001b[0murl\u001b[0m\u001b[1;33m,\u001b[0m \u001b[0mparams\u001b[0m\u001b[1;33m=\u001b[0m\u001b[0mparams\u001b[0m\u001b[1;33m,\u001b[0m \u001b[1;33m**\u001b[0m\u001b[0mkwargs\u001b[0m\u001b[1;33m)\u001b[0m\u001b[1;33m\u001b[0m\u001b[0m\n\u001b[0m\u001b[0;32m     73\u001b[0m \u001b[1;33m\u001b[0m\u001b[0m\n\u001b[0;32m     74\u001b[0m \u001b[1;33m\u001b[0m\u001b[0m\n",
      "\u001b[1;32m~\\Anaconda3\\lib\\site-packages\\requests\\api.py\u001b[0m in \u001b[0;36mrequest\u001b[1;34m(method, url, **kwargs)\u001b[0m\n\u001b[0;32m     56\u001b[0m     \u001b[1;31m# cases, and look like a memory leak in others.\u001b[0m\u001b[1;33m\u001b[0m\u001b[1;33m\u001b[0m\u001b[0m\n\u001b[0;32m     57\u001b[0m     \u001b[1;32mwith\u001b[0m \u001b[0msessions\u001b[0m\u001b[1;33m.\u001b[0m\u001b[0mSession\u001b[0m\u001b[1;33m(\u001b[0m\u001b[1;33m)\u001b[0m \u001b[1;32mas\u001b[0m \u001b[0msession\u001b[0m\u001b[1;33m:\u001b[0m\u001b[1;33m\u001b[0m\u001b[0m\n\u001b[1;32m---> 58\u001b[1;33m         \u001b[1;32mreturn\u001b[0m \u001b[0msession\u001b[0m\u001b[1;33m.\u001b[0m\u001b[0mrequest\u001b[0m\u001b[1;33m(\u001b[0m\u001b[0mmethod\u001b[0m\u001b[1;33m=\u001b[0m\u001b[0mmethod\u001b[0m\u001b[1;33m,\u001b[0m \u001b[0murl\u001b[0m\u001b[1;33m=\u001b[0m\u001b[0murl\u001b[0m\u001b[1;33m,\u001b[0m \u001b[1;33m**\u001b[0m\u001b[0mkwargs\u001b[0m\u001b[1;33m)\u001b[0m\u001b[1;33m\u001b[0m\u001b[0m\n\u001b[0m\u001b[0;32m     59\u001b[0m \u001b[1;33m\u001b[0m\u001b[0m\n\u001b[0;32m     60\u001b[0m \u001b[1;33m\u001b[0m\u001b[0m\n",
      "\u001b[1;32m~\\Anaconda3\\lib\\site-packages\\requests\\sessions.py\u001b[0m in \u001b[0;36mrequest\u001b[1;34m(self, method, url, params, data, headers, cookies, files, auth, timeout, allow_redirects, proxies, hooks, stream, verify, cert, json)\u001b[0m\n\u001b[0;32m    510\u001b[0m         }\n\u001b[0;32m    511\u001b[0m         \u001b[0msend_kwargs\u001b[0m\u001b[1;33m.\u001b[0m\u001b[0mupdate\u001b[0m\u001b[1;33m(\u001b[0m\u001b[0msettings\u001b[0m\u001b[1;33m)\u001b[0m\u001b[1;33m\u001b[0m\u001b[0m\n\u001b[1;32m--> 512\u001b[1;33m         \u001b[0mresp\u001b[0m \u001b[1;33m=\u001b[0m \u001b[0mself\u001b[0m\u001b[1;33m.\u001b[0m\u001b[0msend\u001b[0m\u001b[1;33m(\u001b[0m\u001b[0mprep\u001b[0m\u001b[1;33m,\u001b[0m \u001b[1;33m**\u001b[0m\u001b[0msend_kwargs\u001b[0m\u001b[1;33m)\u001b[0m\u001b[1;33m\u001b[0m\u001b[0m\n\u001b[0m\u001b[0;32m    513\u001b[0m \u001b[1;33m\u001b[0m\u001b[0m\n\u001b[0;32m    514\u001b[0m         \u001b[1;32mreturn\u001b[0m \u001b[0mresp\u001b[0m\u001b[1;33m\u001b[0m\u001b[0m\n",
      "\u001b[1;32m~\\Anaconda3\\lib\\site-packages\\requests\\sessions.py\u001b[0m in \u001b[0;36msend\u001b[1;34m(self, request, **kwargs)\u001b[0m\n\u001b[0;32m    620\u001b[0m \u001b[1;33m\u001b[0m\u001b[0m\n\u001b[0;32m    621\u001b[0m         \u001b[1;31m# Send the request\u001b[0m\u001b[1;33m\u001b[0m\u001b[1;33m\u001b[0m\u001b[0m\n\u001b[1;32m--> 622\u001b[1;33m         \u001b[0mr\u001b[0m \u001b[1;33m=\u001b[0m \u001b[0madapter\u001b[0m\u001b[1;33m.\u001b[0m\u001b[0msend\u001b[0m\u001b[1;33m(\u001b[0m\u001b[0mrequest\u001b[0m\u001b[1;33m,\u001b[0m \u001b[1;33m**\u001b[0m\u001b[0mkwargs\u001b[0m\u001b[1;33m)\u001b[0m\u001b[1;33m\u001b[0m\u001b[0m\n\u001b[0m\u001b[0;32m    623\u001b[0m \u001b[1;33m\u001b[0m\u001b[0m\n\u001b[0;32m    624\u001b[0m         \u001b[1;31m# Total elapsed time of the request (approximately)\u001b[0m\u001b[1;33m\u001b[0m\u001b[1;33m\u001b[0m\u001b[0m\n",
      "\u001b[1;32m~\\Anaconda3\\lib\\site-packages\\requests\\adapters.py\u001b[0m in \u001b[0;36msend\u001b[1;34m(self, request, stream, timeout, verify, cert, proxies)\u001b[0m\n\u001b[0;32m    511\u001b[0m                 \u001b[1;32mraise\u001b[0m \u001b[0mSSLError\u001b[0m\u001b[1;33m(\u001b[0m\u001b[0me\u001b[0m\u001b[1;33m,\u001b[0m \u001b[0mrequest\u001b[0m\u001b[1;33m=\u001b[0m\u001b[0mrequest\u001b[0m\u001b[1;33m)\u001b[0m\u001b[1;33m\u001b[0m\u001b[0m\n\u001b[0;32m    512\u001b[0m \u001b[1;33m\u001b[0m\u001b[0m\n\u001b[1;32m--> 513\u001b[1;33m             \u001b[1;32mraise\u001b[0m \u001b[0mConnectionError\u001b[0m\u001b[1;33m(\u001b[0m\u001b[0me\u001b[0m\u001b[1;33m,\u001b[0m \u001b[0mrequest\u001b[0m\u001b[1;33m=\u001b[0m\u001b[0mrequest\u001b[0m\u001b[1;33m)\u001b[0m\u001b[1;33m\u001b[0m\u001b[0m\n\u001b[0m\u001b[0;32m    514\u001b[0m \u001b[1;33m\u001b[0m\u001b[0m\n\u001b[0;32m    515\u001b[0m         \u001b[1;32mexcept\u001b[0m \u001b[0mClosedPoolError\u001b[0m \u001b[1;32mas\u001b[0m \u001b[0me\u001b[0m\u001b[1;33m:\u001b[0m\u001b[1;33m\u001b[0m\u001b[0m\n",
      "\u001b[1;31mConnectionError\u001b[0m: HTTPSConnectionPool(host='dweet.io', port=443): Max retries exceeded with url: /dweet/for/malo_car_003?SPEED=2.0&RPM=862.5&COOLANT_TEMP=88&VOLTAGE=12.96 (Caused by NewConnectionError('<urllib3.connection.VerifiedHTTPSConnection object at 0x0000018E6C3AF160>: Failed to establish a new connection: [Errno 11001] getaddrinfo failed'))"
     ]
    }
   ],
   "source": [
    "import requests\n",
    "import random\n",
    "import time\n",
    "\n",
    "url = 'https://dweet.io/dweet/for/malo_car_003'\n",
    "\n",
    "for i in range(50):\n",
    "    \n",
    "    #cmds = [obd.commands.SPEED, obd.commands.COOLANT_TEMP, obd.commands.RPM, obd.commands.ELM_VOLTAGE, obd.commands.CONTROL_MODULE_VOLTAGE]\n",
    "    cmds = {'SPEED':obd.commands.SPEED,\n",
    "           'RPM':obd.commands.RPM,\n",
    "           'COOLANT_TEMP':obd.commands.COOLANT_TEMP,\n",
    "           'VOLTAGE':obd.commands.CONTROL_MODULE_VOLTAGE\n",
    "           }\n",
    "    data = {}\n",
    "    for key in cmds:\n",
    "        r = c.query(cmds[key])\n",
    "        #print(r.command, r)\n",
    "        value = str(r.value)\n",
    "        value = value.split(' ')[0]\n",
    "        data[key] = value\n",
    "        time.sleep(0.1)\n",
    "    \n",
    "    r = requests.get(url, params=data)\n",
    "    print(\"send: \", data, \"result: \", r.json()['this'])\n",
    "    time.sleep(1)"
   ]
  },
  {
   "cell_type": "code",
   "execution_count": null,
   "metadata": {},
   "outputs": [],
   "source": []
  }
 ],
 "metadata": {
  "kernelspec": {
   "display_name": "Python 3",
   "language": "python",
   "name": "python3"
  },
  "language_info": {
   "codemirror_mode": {
    "name": "ipython",
    "version": 3
   },
   "file_extension": ".py",
   "mimetype": "text/x-python",
   "name": "python",
   "nbconvert_exporter": "python",
   "pygments_lexer": "ipython3",
   "version": "3.7.0"
  }
 },
 "nbformat": 4,
 "nbformat_minor": 2
}
